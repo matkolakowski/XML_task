{
 "cells": [
  {
   "cell_type": "code",
   "execution_count": 85,
   "id": "e019cd70",
   "metadata": {},
   "outputs": [],
   "source": [
    "import xml.etree.ElementTree as ET\n",
    "import os\n",
    "from pathlib import Path"
   ]
  },
  {
   "cell_type": "code",
   "execution_count": 86,
   "id": "9804d0a3",
   "metadata": {},
   "outputs": [],
   "source": [
    "file_name = \"8QFXH.xml\""
   ]
  },
  {
   "cell_type": "code",
   "execution_count": 87,
   "id": "d8f4a5f1",
   "metadata": {},
   "outputs": [],
   "source": [
    "# oper raw XML\n",
    "with open(file_name, \"rb\") as f:\n",
    "    data = f.read()"
   ]
  },
  {
   "cell_type": "code",
   "execution_count": 88,
   "id": "aa996e80",
   "metadata": {},
   "outputs": [
    {
     "data": {
      "text/plain": [
       "b'<annotation>\\n    <folder>images</folder>\\n    <filename>8QFXH.png</filename>\\n    <path>images/8QFXH.png</path>\\n    <source>\\n        <database>Unknown</database>\\n    </source>\\n    <size>\\n        <width>200</width>\\n        <height>80</height>\\n        <depth>3</depth>\\n    </size>\\n    <segmented>0</segmented>\\n    <object>\\n        <name>none</name>\\n        <pose>Unspecified</pose>\\n        <truncated>0</truncated>\\n        <difficult>0</difficult>\\n        <bndbox>\\n            <xmin>6.4</xmin>\\n            <ymin>30.8</ymin>\\n            <xmax>21.6</xmax>\\n            <ymax>52.400000000000006</ymax>\\n        </bndbox>\\n    </object>\\n    <object>\\n        <name>none</name>\\n        <pose>Unspecified</pose>\\n        <truncated>0</truncated>\\n        <difficult>0</difficult>\\n        <bndbox>\\n            <xmin>34</xmin>\\n            <ymin>33.2</ymin>\\n            <xmax>49.6</xmax>\\n            <ymax>60.800000000000004</ymax>\\n        </bndbox>\\n    </object>\\n    <object>\\n        <name>none</name>\\n        <pose>Unspecified</pose>\\n        <truncated>0</truncated>\\n        <difficult>0</difficult>\\n        <bndbox>\\n            <xmin>74.8</xmin>\\n            <ymin>24.8</ymin>\\n            <xmax>90.4</xmax>\\n            <ymax>48.8</ymax>\\n        </bndbox>\\n    </object>\\n    <object>\\n        <name>none</name>\\n        <pose>Unspecified</pose>\\n        <truncated>0</truncated>\\n        <difficult>0</difficult>\\n        <bndbox>\\n            <xmin>101.2</xmin>\\n            <ymin>33.6</ymin>\\n            <xmax>117.2</xmax>\\n            <ymax>54.800000000000004</ymax>\\n        </bndbox>\\n    </object>\\n    <object>\\n        <name>none</name>\\n        <pose>Unspecified</pose>\\n        <truncated>0</truncated>\\n        <difficult>0</difficult>\\n        <bndbox>\\n            <xmin>133.6</xmin>\\n            <ymin>32.800000000000004</ymin>\\n            <xmax>150.79999999999998</xmax>\\n            <ymax>53.60000000000001</ymax>\\n        </bndbox>\\n    </object>\\n</annotation>\\n'"
      ]
     },
     "execution_count": 88,
     "metadata": {},
     "output_type": "execute_result"
    }
   ],
   "source": [
    "# show raw XML\n",
    "data"
   ]
  },
  {
   "cell_type": "code",
   "execution_count": 89,
   "id": "df3b21d4",
   "metadata": {},
   "outputs": [],
   "source": [
    "# prepare root\n",
    "tree = ET.parse(file_name)\n",
    "root = tree.getroot()"
   ]
  },
  {
   "cell_type": "code",
   "execution_count": 90,
   "id": "cf61b577",
   "metadata": {},
   "outputs": [
    {
     "name": "stdout",
     "output_type": "stream",
     "text": [
      "folder\n",
      "filename\n",
      "path\n",
      "source\n",
      "size\n",
      "segmented\n",
      "object\n",
      "object\n",
      "object\n",
      "object\n",
      "object\n"
     ]
    }
   ],
   "source": [
    "#  show structure of main tree\n",
    "for child in root:\n",
    "    print(child.tag)"
   ]
  },
  {
   "cell_type": "code",
   "execution_count": 91,
   "id": "55d826c0",
   "metadata": {},
   "outputs": [
    {
     "name": "stdout",
     "output_type": "stream",
     "text": [
      "images\n",
      "8QFXH.png\n",
      "images/8QFXH.png\n",
      "\n",
      "        \n",
      "\n",
      "        \n",
      "0\n",
      "\n",
      "        \n",
      "\n",
      "        \n",
      "\n",
      "        \n",
      "\n",
      "        \n",
      "\n",
      "        \n"
     ]
    }
   ],
   "source": [
    "# show data of main tree\n",
    "for child in root:\n",
    "    print(child.text)"
   ]
  },
  {
   "cell_type": "code",
   "execution_count": 92,
   "id": "0bd44949",
   "metadata": {},
   "outputs": [
    {
     "name": "stdout",
     "output_type": "stream",
     "text": [
      "database\n",
      "width\n",
      "height\n",
      "depth\n",
      "name\n",
      "pose\n",
      "truncated\n",
      "difficult\n",
      "bndbox\n",
      "name\n",
      "pose\n",
      "truncated\n",
      "difficult\n",
      "bndbox\n",
      "name\n",
      "pose\n",
      "truncated\n",
      "difficult\n",
      "bndbox\n",
      "name\n",
      "pose\n",
      "truncated\n",
      "difficult\n",
      "bndbox\n",
      "name\n",
      "pose\n",
      "truncated\n",
      "difficult\n",
      "bndbox\n"
     ]
    }
   ],
   "source": [
    "# show structure of branches\n",
    "for child in root:\n",
    "    for sub_child in child:\n",
    "        print(sub_child.tag)"
   ]
  },
  {
   "cell_type": "code",
   "execution_count": 93,
   "id": "8630e9a3",
   "metadata": {},
   "outputs": [
    {
     "name": "stdout",
     "output_type": "stream",
     "text": [
      "Unknown\n",
      "200\n",
      "80\n",
      "3\n",
      "none\n",
      "Unspecified\n",
      "0\n",
      "0\n",
      "\n",
      "            \n",
      "none\n",
      "Unspecified\n",
      "0\n",
      "0\n",
      "\n",
      "            \n",
      "none\n",
      "Unspecified\n",
      "0\n",
      "0\n",
      "\n",
      "            \n",
      "none\n",
      "Unspecified\n",
      "0\n",
      "0\n",
      "\n",
      "            \n",
      "none\n",
      "Unspecified\n",
      "0\n",
      "0\n",
      "\n",
      "            \n"
     ]
    }
   ],
   "source": [
    "#  show data of branches\n",
    "for child in root:\n",
    "    for sub_child in child:\n",
    "        print(sub_child.text)"
   ]
  },
  {
   "cell_type": "code",
   "execution_count": 94,
   "id": "08b7cfc3",
   "metadata": {},
   "outputs": [
    {
     "name": "stdout",
     "output_type": "stream",
     "text": [
      "name none\n",
      "name none\n",
      "name none\n",
      "name none\n",
      "name none\n"
     ]
    }
   ],
   "source": [
    "# show structure and data of \"name\" branche\n",
    "for child in root:\n",
    "    for sub_child in child:\n",
    "        if sub_child.tag == \"name\":\n",
    "            print(sub_child.tag, sub_child.text)\n",
    "        "
   ]
  },
  {
   "cell_type": "code",
   "execution_count": 95,
   "id": "775cc7b6",
   "metadata": {},
   "outputs": [
    {
     "name": "stdout",
     "output_type": "stream",
     "text": [
      "8QFXH\n"
     ]
    }
   ],
   "source": [
    "# there is at least to ways to modify XML files. Point of task is to rewritte \"name\" data to \"label data\" \n",
    "# (letters from file name)\n",
    "\n",
    "#  first step is get labels from file_name\n",
    "\n",
    "# get stem of file_name:\n",
    "stem = Path(file_name).stem\n",
    "print(stem)"
   ]
  },
  {
   "cell_type": "code",
   "execution_count": 96,
   "id": "ea18a9d1",
   "metadata": {},
   "outputs": [
    {
     "name": "stdout",
     "output_type": "stream",
     "text": [
      "['8', 'Q', 'F', 'X', 'H']\n"
     ]
    }
   ],
   "source": [
    "# create list of labels from file_name\n",
    "labels_list = list(stem.strip(\" \"))\n",
    "print(labels_list)"
   ]
  },
  {
   "cell_type": "code",
   "execution_count": 97,
   "id": "9985d524",
   "metadata": {},
   "outputs": [
    {
     "name": "stdout",
     "output_type": "stream",
     "text": [
      "none\n",
      "none\n",
      "none\n",
      "none\n",
      "none\n"
     ]
    }
   ],
   "source": [
    "# overwritte \"name\" as labels with enumerate methood\n",
    "\n",
    "# find \"object\" in root\n",
    "list_of_objects = root.findall('object')\n",
    "\n",
    "# find all \"name\" data in objects:\n",
    "list_of_names = list()\n",
    "for name in list_of_objects:\n",
    "    list_of_names.append(name.find(\"name\"))\n",
    "for x in list_of_names:\n",
    "    print(x.text)\n"
   ]
  },
  {
   "cell_type": "code",
   "execution_count": 98,
   "id": "8c32a2c0",
   "metadata": {},
   "outputs": [
    {
     "name": "stdout",
     "output_type": "stream",
     "text": [
      "8\n",
      "Q\n",
      "F\n",
      "X\n",
      "H\n"
     ]
    }
   ],
   "source": [
    "# overwritte name to label             \n",
    "for num, label in enumerate(list_of_names):\n",
    "    label.text = labels_list[num]\n",
    "for x in list_of_names:\n",
    "    print(x.text)"
   ]
  },
  {
   "cell_type": "code",
   "execution_count": 82,
   "id": "c1520b78",
   "metadata": {},
   "outputs": [
    {
     "name": "stdout",
     "output_type": "stream",
     "text": [
      "name 8\n",
      "name Q\n",
      "name F\n",
      "name X\n",
      "name H\n"
     ]
    }
   ],
   "source": [
    "# show structure and data of \"name\" branche after overwritting labels\n",
    "for child in root:\n",
    "    for sub_child in child:\n",
    "        if sub_child.tag == \"name\":\n",
    "            print(sub_child.tag, sub_child.text)"
   ]
  },
  {
   "cell_type": "code",
   "execution_count": 83,
   "id": "a6006ed5",
   "metadata": {},
   "outputs": [],
   "source": [
    "# save xlm file as _mod.xml\n",
    "# prepare overwritte root to be save as file             \n",
    "to_save_xml = ET.tostring(root)\n",
    "\n",
    "# save new root             \n",
    "with open((stem + '_mod.xml'), \"wb\") as f:\n",
    "        f.write(to_save_xml)"
   ]
  },
  {
   "cell_type": "code",
   "execution_count": null,
   "id": "e03df92d",
   "metadata": {},
   "outputs": [],
   "source": [
    "#  check out is 8QFXH_mod.xml has been created, is name has been overwritten as desired?"
   ]
  },
  {
   "cell_type": "code",
   "execution_count": null,
   "id": "04a2445d",
   "metadata": {},
   "outputs": [],
   "source": []
  },
  {
   "cell_type": "code",
   "execution_count": 102,
   "id": "27d3be11",
   "metadata": {},
   "outputs": [
    {
     "name": "stdout",
     "output_type": "stream",
     "text": [
      "1\n",
      "8\n",
      "2\n",
      "Q\n",
      "3\n",
      "F\n",
      "4\n",
      "X\n",
      "5\n",
      "H\n"
     ]
    }
   ],
   "source": [
    "# another methood if enumerate like typing using count parameter\n",
    "\n",
    "# set counter\n",
    "count = 0\n",
    "#  find name branche\n",
    "for child in root:\n",
    "    if child.tag == \"object\":\n",
    "        for sub in child:\n",
    "\n",
    "# overwritte name as label and add one to counter             \n",
    "            if sub.tag == \"name\":\n",
    "                sub.text = labels_list[count]\n",
    "                count += 1\n",
    "                print(count)\n",
    "                print(sub.text)\n",
    "                \n",
    "to_save_xml = ET.tostring(root)\n",
    "\n",
    "# save new root             \n",
    "with open((stem + '_count_mod.xml'), \"wb\") as f:\n",
    "    f.write(to_save_xml)"
   ]
  },
  {
   "cell_type": "code",
   "execution_count": null,
   "id": "440519ba",
   "metadata": {},
   "outputs": [],
   "source": []
  }
 ],
 "metadata": {
  "kernelspec": {
   "display_name": "Python 3 (ipykernel)",
   "language": "python",
   "name": "python3"
  },
  "language_info": {
   "codemirror_mode": {
    "name": "ipython",
    "version": 3
   },
   "file_extension": ".py",
   "mimetype": "text/x-python",
   "name": "python",
   "nbconvert_exporter": "python",
   "pygments_lexer": "ipython3",
   "version": "3.10.4"
  }
 },
 "nbformat": 4,
 "nbformat_minor": 5
}
